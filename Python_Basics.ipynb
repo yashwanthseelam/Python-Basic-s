{
  "nbformat": 4,
  "nbformat_minor": 0,
  "metadata": {
    "colab": {
      "provenance": []
    },
    "kernelspec": {
      "name": "python3",
      "display_name": "Python 3"
    },
    "language_info": {
      "name": "python"
    }
  },
  "cells": [
    {
      "cell_type": "markdown",
      "source": [
        "#Python Basic's"
      ],
      "metadata": {
        "id": "CVXiBfzbm7oC"
      }
    },
    {
      "cell_type": "markdown",
      "source": [
        "1. What is Python, and why is it popular\n",
        "    ->Python is General purpose and high level programming language.\n",
        "    ->Python syntax is Simple and Easy to Learn\n",
        "    ->Python is Dynamically Typed\n",
        "    ->Python is Freeware and Open Source\n",
        "\n",
        "2. What is an interpreter in Python\n",
        "    ->Python is a Interpreter is program that reads and excute the python code.\n",
        "\n",
        "3. What are pre-defined keywords in Python\n",
        "    ->Pre-defined keywords in python that have special purpose that are inbuilt\n",
        "    ->We can't use pre-defined keywords as variable\n",
        "\n",
        "4. Can keywords be used as variable names\n",
        "    -No We can't use keywords be used as variable .keywords have a special meaning.\n",
        "\n",
        "5. What is mutability in Python\n",
        "    ->Mutablity in python is one we can create any object we can modified that object .\n",
        "6.  Why are lists mutable, but tuples are immutable\n",
        "    -\n",
        "7.  What is the difference between “==” and “is” operators in Python\n",
        "    -> '==' operators is used for the content comparision\n",
        "    -> 'is' operators is used for to check address of the two objects\n",
        "\n",
        "8. What are logical operators in Python\n",
        "    ->logical operators are used in python for decision making of the program.\n",
        "\n",
        "9. What is type casting in Python\n",
        "    ->Type casting is also called as type Coresion .It can convert the data type from one data to another data type.\n",
        "    \n",
        "10. What is the difference between implicit and explicit type casting\n",
        "    ->Implicit typecasting is used to convert data from one type to another type automatically.Interpreter will take care of the Implicit typecasting.\n",
        "    ->Explicit Typecasting is used to convert the data from one type to another type by user-defined.Programmer is responsible for the Explicit type casting.\n",
        "\n",
        "11.  What is the purpose of conditional statements in Python\n",
        "    ->When we don't the the length of the loop ,we will use the while loop it will execute the loop until the condition is True.\n",
        "\n",
        "12.  How does the elif statement work\n",
        "    ->If we have 3 or greater then 3 we will use the elif statement .\n",
        "\n",
        "13. What is the difference between for and while loops\n",
        "    ->While loop is execute until the condition is True\n",
        "    ->For loop is execute the sequence is completed.\n",
        "\n",
        "14. Describe a scenario where a while loop is more suitable than a for loop.\n",
        "    ->while loop is execute until the condition is True Where as For loop is check the iteration of the sequence."
      ],
      "metadata": {
        "id": "EN2t7DGiiIYl"
      }
    },
    {
      "cell_type": "code",
      "source": [
        " # Write a Python program to print \"Hello, World!y\n",
        "print(\"Hello World!\")"
      ],
      "metadata": {
        "colab": {
          "base_uri": "https://localhost:8080/"
        },
        "id": "4FRZ-jI7m5Ya",
        "outputId": "f0ef55fb-9784-496f-f2f8-69cc5ab7371f"
      },
      "execution_count": null,
      "outputs": [
        {
          "output_type": "stream",
          "name": "stdout",
          "text": [
            "Hello World!\n"
          ]
        }
      ]
    },
    {
      "cell_type": "code",
      "source": [
        "# Write a Python program that displays your name and age8\n",
        "name = \"Yashwanth Anjaneya Reddy\"\n",
        "age = 26\n",
        "print(f'My Name is {name} and I am {age} old')"
      ],
      "metadata": {
        "colab": {
          "base_uri": "https://localhost:8080/"
        },
        "id": "ruWjzJX3ncZ6",
        "outputId": "9d90dfbe-7670-43f5-c90d-bc2b5fc4d1d6"
      },
      "execution_count": null,
      "outputs": [
        {
          "output_type": "stream",
          "name": "stdout",
          "text": [
            "My Name is Yashwanth Anjaneya Reddy and I am 26 old\n"
          ]
        }
      ]
    },
    {
      "cell_type": "code",
      "source": [
        "# Write a program that checks if a given word is a Python keyword.\n",
        "word = \"True\"\n",
        "import keyword\n",
        "keywords=keyword.kwlist\n",
        "if word in keywords:\n",
        "  print(\"The Given word is a Python Keyword\")\n",
        "else:\n",
        "  print(\"The Given word is not Python Keyword\")"
      ],
      "metadata": {
        "colab": {
          "base_uri": "https://localhost:8080/"
        },
        "id": "s6Fxosa1oL9x",
        "outputId": "8363815f-dc88-4c78-a126-defd71f3f0b3"
      },
      "execution_count": null,
      "outputs": [
        {
          "output_type": "stream",
          "name": "stdout",
          "text": [
            "The Given word is a Python Keyword\n"
          ]
        }
      ]
    },
    {
      "cell_type": "code",
      "source": [
        "# Write code to print all the pre-defined keywords in Python using the keyword library\n",
        "import keyword\n",
        "keyword.kwlist\n",
        "print(keyword.kwlist)\n",
        "print(len(keyword.kwlist))"
      ],
      "metadata": {
        "colab": {
          "base_uri": "https://localhost:8080/"
        },
        "id": "7o4PZVBzn6pr",
        "outputId": "33b305c2-d2e4-4510-b9ad-6cfc7c03ab6e"
      },
      "execution_count": null,
      "outputs": [
        {
          "output_type": "stream",
          "name": "stdout",
          "text": [
            "['False', 'None', 'True', 'and', 'as', 'assert', 'async', 'await', 'break', 'class', 'continue', 'def', 'del', 'elif', 'else', 'except', 'finally', 'for', 'from', 'global', 'if', 'import', 'in', 'is', 'lambda', 'nonlocal', 'not', 'or', 'pass', 'raise', 'return', 'try', 'while', 'with', 'yield']\n",
            "35\n"
          ]
        }
      ]
    },
    {
      "cell_type": "code",
      "source": [
        "# Create a list and tuple in Python, and demonstrate how attempting to change an element works differently for each.\n",
        "number_list=[10,20,30,40]\n",
        "number_tuple=(10,20,30,40)\n",
        "number_list[0]=100 #It will change the element by indexing number but in tuple it can't change the Element .\n",
        "#List is Mutable\n",
        "#Tuple is Immutable"
      ],
      "metadata": {
        "id": "Ib1d_5m0sfLc"
      },
      "execution_count": null,
      "outputs": []
    },
    {
      "cell_type": "code",
      "source": [
        "# Write a Python program to convert user input from string to integer, float, and boolean types.\n",
        "user_name = input(\"Enter the String \")\n",
        "str_to_int = int(user_name)\n",
        "str_to_float = float(user_name)\n",
        "str_to_boolean = bool(user_name)"
      ],
      "metadata": {
        "colab": {
          "base_uri": "https://localhost:8080/"
        },
        "id": "pkTS5Ic-wctb",
        "outputId": "c63add77-3ed1-44ca-f88e-f0ee93b0d214"
      },
      "execution_count": null,
      "outputs": [
        {
          "name": "stdout",
          "output_type": "stream",
          "text": [
            "Enter the String 10\n"
          ]
        }
      ]
    },
    {
      "cell_type": "code",
      "source": [
        "# Write code to demonstrate type casting with list elements.\n",
        "list_elements = [10,20,\"Yashwanth\",True,False]\n",
        "print(int(list_elements[3]))\n",
        "print(int(list_elements[4]))\n"
      ],
      "metadata": {
        "colab": {
          "base_uri": "https://localhost:8080/"
        },
        "id": "Cet04rA6xYp0",
        "outputId": "d9530017-c313-4563-8a9e-8a9a7d4ad49f"
      },
      "execution_count": null,
      "outputs": [
        {
          "output_type": "stream",
          "name": "stdout",
          "text": [
            "1\n",
            "0\n"
          ]
        }
      ]
    },
    {
      "cell_type": "code",
      "source": [
        "# Write a program that checks if a number is positive, negative, or zero.\n",
        "number = int(input(\"Enter the Number is: \"))\n",
        "if number > 0:\n",
        "  print(\"Positive\")\n",
        "elif number == 0:\n",
        "  print(\"Zero\")\n",
        "else:\n",
        "  print(\"Negative\")"
      ],
      "metadata": {
        "colab": {
          "base_uri": "https://localhost:8080/"
        },
        "id": "fDjI8X3kx49T",
        "outputId": "15f927bf-8af3-45fb-cc92-8727bcf69a31"
      },
      "execution_count": null,
      "outputs": [
        {
          "output_type": "stream",
          "name": "stdout",
          "text": [
            "Enter the Number is: -1\n",
            "Negative\n"
          ]
        }
      ]
    },
    {
      "cell_type": "code",
      "source": [
        "# Write a for loop to print numbers from 1 to 10.\n",
        "for i in range(1,11):\n",
        "  print(i)"
      ],
      "metadata": {
        "colab": {
          "base_uri": "https://localhost:8080/"
        },
        "id": "U4wfY0NIzfrU",
        "outputId": "e1ede364-b3b7-4806-e336-df9ed6a9c8f2"
      },
      "execution_count": null,
      "outputs": [
        {
          "output_type": "stream",
          "name": "stdout",
          "text": [
            "1\n",
            "2\n",
            "3\n",
            "4\n",
            "5\n",
            "6\n",
            "7\n",
            "8\n",
            "9\n",
            "10\n"
          ]
        }
      ]
    },
    {
      "cell_type": "code",
      "source": [
        "# Write a Python program to find the sum of all even numbers between 1 and 50.\n",
        "sum = 0\n",
        "for i in range(1,51):\n",
        "  if i % 2 == 0:\n",
        "    sum+=i\n",
        "print(sum)"
      ],
      "metadata": {
        "colab": {
          "base_uri": "https://localhost:8080/"
        },
        "id": "FlmmAapkz517",
        "outputId": "a427fb7d-6c56-4136-8e3d-5302aad00a61"
      },
      "execution_count": null,
      "outputs": [
        {
          "output_type": "stream",
          "name": "stdout",
          "text": [
            "650\n"
          ]
        }
      ]
    },
    {
      "cell_type": "code",
      "source": [
        "# Write a program to reverse a string using a while loop.\n",
        "name_string = \"Seelam Yashwanth Anjaneya Reddy\"\n",
        "length = len(name_string)-1\n",
        "while 0 <= length:\n",
        "  print(name_string[length],end = \"\")\n",
        "  length -=1"
      ],
      "metadata": {
        "colab": {
          "base_uri": "https://localhost:8080/"
        },
        "id": "tWMo8I5D0d2D",
        "outputId": "20b0ed64-7caa-4ca2-f995-54548910de3d"
      },
      "execution_count": null,
      "outputs": [
        {
          "output_type": "stream",
          "name": "stdout",
          "text": [
            "yddeR ayenajnA htnawhsaY maleeS"
          ]
        }
      ]
    },
    {
      "cell_type": "code",
      "source": [
        "# Write a Python program to calculate the factorial of a number provided by the user using a while loop\n",
        "number = int(input(\"Enter the Number is:\"))\n",
        "i=1\n",
        "factorial = 1\n",
        "while i <= number:\n",
        "  factorial *=i\n",
        "  i+=1\n",
        "print(factorial)"
      ],
      "metadata": {
        "colab": {
          "base_uri": "https://localhost:8080/"
        },
        "id": "BgQCDJYM1dqv",
        "outputId": "c19a5a72-1b58-4191-85f7-36decfc70c93"
      },
      "execution_count": null,
      "outputs": [
        {
          "output_type": "stream",
          "name": "stdout",
          "text": [
            "Enter the Number is:5\n",
            "120\n"
          ]
        }
      ]
    },
    {
      "cell_type": "code",
      "source": [
        "\n"
      ],
      "metadata": {
        "id": "4PA_RyGz2WQn"
      },
      "execution_count": null,
      "outputs": []
    }
  ]
}